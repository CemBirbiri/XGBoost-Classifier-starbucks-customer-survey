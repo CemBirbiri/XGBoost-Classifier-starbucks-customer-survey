{
  "metadata": {
    "kernelspec": {
      "language": "python",
      "display_name": "Python 3",
      "name": "python3"
    },
    "language_info": {
      "pygments_lexer": "ipython3",
      "nbconvert_exporter": "python",
      "version": "3.6.4",
      "file_extension": ".py",
      "codemirror_mode": {
        "name": "ipython",
        "version": 3
      },
      "name": "python",
      "mimetype": "text/x-python"
    },
    "colab": {
      "provenance": []
    }
  },
  "nbformat_minor": 0,
  "nbformat": 4,
  "cells": [
    {
      "cell_type": "markdown",
      "source": [
        "Prepared by:\n",
        "\n",
        "**Ufuk Cem Birbiri**\n",
        "\n",
        "Data Scientist & AI engineer\n",
        "\n",
        "Eindhoven, Netherlands\n",
        "\n",
        "ufuk.birbiri@gmail.com"
      ],
      "metadata": {
        "id": "_nG3Q8j3cNVT"
      }
    },
    {
      "cell_type": "markdown",
      "source": [
        "#XGBoost Classifier using Starbucks Customer Survey\n",
        "\n",
        "###Dataset Description\n",
        "This dataset is composed of a survey questions of over 100 respondents for their buying behavior at Starbucks. Income is show in Malaysian Ringgit (RM). The dataset [link](https://www.kaggle.com/datasets/mahirahmzh/starbucks-customer-retention-malaysia-survey).\n",
        "\n",
        "###Content\n",
        "- Demographic info about customers – gender, age range, employment status, income range\n",
        "- Their current behavior in buying Starbucks\n",
        "- Facilities and features of Starbucks that contribute to the behavior\n",
        "Inspiration\n"
      ],
      "metadata": {
        "id": "u0nOsdGa_7r_"
      }
    },
    {
      "cell_type": "markdown",
      "source": [
        "\n",
        "# **1. Exploring Data**\n",
        "\n"
      ],
      "metadata": {
        "id": "c0lTTTpE9nTK"
      }
    },
    {
      "cell_type": "markdown",
      "source": [
        "Import necessary libraries"
      ],
      "metadata": {
        "id": "xeFbxApQBDGy"
      }
    },
    {
      "cell_type": "code",
      "source": [
        "import pandas as pd\n",
        "import numpy as np\n",
        "import warnings\n",
        "warnings.filterwarnings(\"ignore\")\n",
        "\n",
        "#Visualization\n",
        "import matplotlib.pyplot as plt\n",
        "from sklearn.metrics import classification_report\n",
        "\n",
        "#Classification models\n",
        "import xgboost as xgb\n",
        "from sklearn.model_selection import train_test_split\n",
        "\n",
        "#Data Processing\n",
        "from collections import Counter\n",
        "from sklearn.datasets import make_classification\n",
        "from imblearn.over_sampling import RandomOverSampler\n",
        "from sklearn.metrics import ConfusionMatrixDisplay, RocCurveDisplay"
      ],
      "metadata": {
        "execution": {
          "iopub.status.busy": "2021-12-29T03:39:34.611112Z",
          "iopub.execute_input": "2021-12-29T03:39:34.61152Z",
          "iopub.status.idle": "2021-12-29T03:39:36.247685Z",
          "shell.execute_reply.started": "2021-12-29T03:39:34.61141Z",
          "shell.execute_reply": "2021-12-29T03:39:36.246673Z"
        },
        "trusted": true,
        "id": "Ijvn9KuF9nTM"
      },
      "execution_count": 48,
      "outputs": []
    },
    {
      "cell_type": "markdown",
      "source": [
        "## 1.1 Load Data\n",
        "After the Library is imported, the next step is to access and load the dataset.\n",
        "\n"
      ],
      "metadata": {
        "id": "LwuLxSop9nTM"
      }
    },
    {
      "cell_type": "code",
      "source": [
        "survey = pd.read_csv('Starbucks_satisfactory_survey.csv')"
      ],
      "metadata": {
        "execution": {
          "iopub.status.busy": "2021-12-29T03:39:39.799403Z",
          "iopub.execute_input": "2021-12-29T03:39:39.80047Z",
          "iopub.status.idle": "2021-12-29T03:39:39.824607Z",
          "shell.execute_reply.started": "2021-12-29T03:39:39.800414Z",
          "shell.execute_reply": "2021-12-29T03:39:39.82327Z"
        },
        "trusted": true,
        "id": "Fuyh5AmY9nTM"
      },
      "execution_count": 49,
      "outputs": []
    },
    {
      "cell_type": "markdown",
      "source": [
        "## 1.2 Statistical Analysis and Visualisations\n",
        "To understand the data, we will visualize some features and their relationships to the target column, namely the customer loyalty (Will they continue buying at Starbucks?)\n",
        "\n",
        "\n",
        "\n",
        "\n",
        "\n"
      ],
      "metadata": {
        "id": "fgb5EWLZ9nTM"
      }
    },
    {
      "cell_type": "markdown",
      "source": [
        "Let's see the shape"
      ],
      "metadata": {
        "id": "kP-IP8nCDSTM"
      }
    },
    {
      "cell_type": "code",
      "source": [
        "survey.shape"
      ],
      "metadata": {
        "colab": {
          "base_uri": "https://localhost:8080/"
        },
        "id": "E1Gipt7I-Vhu",
        "outputId": "6fd261da-c9f5-4867-d8c1-896d5ae48df2"
      },
      "execution_count": 50,
      "outputs": [
        {
          "output_type": "execute_result",
          "data": {
            "text/plain": [
              "(122, 21)"
            ]
          },
          "metadata": {},
          "execution_count": 50
        }
      ]
    },
    {
      "cell_type": "markdown",
      "source": [
        "Look at a few rows\n"
      ],
      "metadata": {
        "id": "J4od3gtkDRqL"
      }
    },
    {
      "cell_type": "code",
      "source": [
        "survey.head(2)"
      ],
      "metadata": {
        "execution": {
          "iopub.status.busy": "2021-12-29T03:39:42.895447Z",
          "iopub.execute_input": "2021-12-29T03:39:42.895906Z",
          "iopub.status.idle": "2021-12-29T03:39:42.934935Z",
          "shell.execute_reply.started": "2021-12-29T03:39:42.895873Z",
          "shell.execute_reply": "2021-12-29T03:39:42.934353Z"
        },
        "trusted": true,
        "colab": {
          "base_uri": "https://localhost:8080/",
          "height": 535
        },
        "id": "Uyy0D3pp9nTN",
        "outputId": "aa40dae9-2f17-427b-c104-e78281b8f5f7"
      },
      "execution_count": 51,
      "outputs": [
        {
          "output_type": "execute_result",
          "data": {
            "text/plain": [
              "                      Timestamp 1. Your Gender    2. Your Age  \\\n",
              "0  2019/10/01 12:38:43 PM GMT+8         Female  From 20 to 29   \n",
              "1  2019/10/01 12:38:54 PM GMT+8         Female  From 20 to 29   \n",
              "\n",
              "  3. Are you currently....? 4. What is your annual income?  \\\n",
              "0                   Student             Less than RM25,000   \n",
              "1                   Student             Less than RM25,000   \n",
              "\n",
              "  5. How often do you visit Starbucks? 6. How do you usually enjoy Starbucks?  \\\n",
              "0                               Rarely                                Dine in   \n",
              "1                               Rarely                              Take away   \n",
              "\n",
              "  7. How much time do you normally  spend during your visit?  \\\n",
              "0                       Between 30 minutes to 1 hour           \n",
              "1                                   Below 30 minutes           \n",
              "\n",
              "  8. The nearest Starbucks's outlet to you is...?  \\\n",
              "0                                      within 1km   \n",
              "1                                       1km - 3km   \n",
              "\n",
              "  9. Do you have Starbucks membership card?  ...  \\\n",
              "0                                       Yes  ...   \n",
              "1                                       Yes  ...   \n",
              "\n",
              "  11. On average, how much would you spend at Starbucks per visit?  \\\n",
              "0                                     Less than RM20                 \n",
              "1                                     Less than RM20                 \n",
              "\n",
              "  12. How would you rate the quality of Starbucks compared to other brands (Coffee Bean, Old Town White Coffee..) to be:  \\\n",
              "0                                                  4                                                                       \n",
              "1                                                  4                                                                       \n",
              "\n",
              "   13. How would you rate the price range at Starbucks?  \\\n",
              "0                                                  3      \n",
              "1                                                  3      \n",
              "\n",
              "   14. How important are sales and promotions in your purchase decision?  \\\n",
              "0                                                  5                       \n",
              "1                                                  4                       \n",
              "\n",
              "   15. How would you rate the ambiance at Starbucks? (lighting, music, etc...)  \\\n",
              "0                                                  5                             \n",
              "1                                                  4                             \n",
              "\n",
              "   16. You rate the WiFi quality at Starbucks as..  \\\n",
              "0                                                4   \n",
              "1                                                4   \n",
              "\n",
              "   17. How would you rate the service at Starbucks? (Promptness, friendliness, etc..)  \\\n",
              "0                                                  4                                    \n",
              "1                                                  5                                    \n",
              "\n",
              "   18. How likely you will choose Starbucks for doing business meetings or hangout with friends?  \\\n",
              "0                                                  3                                               \n",
              "1                                                  2                                               \n",
              "\n",
              "   19. How do you come to hear of promotions at Starbucks? Check all that apply.  \\\n",
              "0  Starbucks Website/Apps;Social Media;Emails;Dea...                               \n",
              "1                     Social Media;In Store displays                               \n",
              "\n",
              "  20. Will you continue buying at Starbucks?  \n",
              "0                                        Yes  \n",
              "1                                        Yes  \n",
              "\n",
              "[2 rows x 21 columns]"
            ],
            "text/html": [
              "\n",
              "\n",
              "  <div id=\"df-bfaaccfc-7738-4795-a9cd-596f194b154a\">\n",
              "    <div class=\"colab-df-container\">\n",
              "      <div>\n",
              "<style scoped>\n",
              "    .dataframe tbody tr th:only-of-type {\n",
              "        vertical-align: middle;\n",
              "    }\n",
              "\n",
              "    .dataframe tbody tr th {\n",
              "        vertical-align: top;\n",
              "    }\n",
              "\n",
              "    .dataframe thead th {\n",
              "        text-align: right;\n",
              "    }\n",
              "</style>\n",
              "<table border=\"1\" class=\"dataframe\">\n",
              "  <thead>\n",
              "    <tr style=\"text-align: right;\">\n",
              "      <th></th>\n",
              "      <th>Timestamp</th>\n",
              "      <th>1. Your Gender</th>\n",
              "      <th>2. Your Age</th>\n",
              "      <th>3. Are you currently....?</th>\n",
              "      <th>4. What is your annual income?</th>\n",
              "      <th>5. How often do you visit Starbucks?</th>\n",
              "      <th>6. How do you usually enjoy Starbucks?</th>\n",
              "      <th>7. How much time do you normally  spend during your visit?</th>\n",
              "      <th>8. The nearest Starbucks's outlet to you is...?</th>\n",
              "      <th>9. Do you have Starbucks membership card?</th>\n",
              "      <th>...</th>\n",
              "      <th>11. On average, how much would you spend at Starbucks per visit?</th>\n",
              "      <th>12. How would you rate the quality of Starbucks compared to other brands (Coffee Bean, Old Town White Coffee..) to be:</th>\n",
              "      <th>13. How would you rate the price range at Starbucks?</th>\n",
              "      <th>14. How important are sales and promotions in your purchase decision?</th>\n",
              "      <th>15. How would you rate the ambiance at Starbucks? (lighting, music, etc...)</th>\n",
              "      <th>16. You rate the WiFi quality at Starbucks as..</th>\n",
              "      <th>17. How would you rate the service at Starbucks? (Promptness, friendliness, etc..)</th>\n",
              "      <th>18. How likely you will choose Starbucks for doing business meetings or hangout with friends?</th>\n",
              "      <th>19. How do you come to hear of promotions at Starbucks? Check all that apply.</th>\n",
              "      <th>20. Will you continue buying at Starbucks?</th>\n",
              "    </tr>\n",
              "  </thead>\n",
              "  <tbody>\n",
              "    <tr>\n",
              "      <th>0</th>\n",
              "      <td>2019/10/01 12:38:43 PM GMT+8</td>\n",
              "      <td>Female</td>\n",
              "      <td>From 20 to 29</td>\n",
              "      <td>Student</td>\n",
              "      <td>Less than RM25,000</td>\n",
              "      <td>Rarely</td>\n",
              "      <td>Dine in</td>\n",
              "      <td>Between 30 minutes to 1 hour</td>\n",
              "      <td>within 1km</td>\n",
              "      <td>Yes</td>\n",
              "      <td>...</td>\n",
              "      <td>Less than RM20</td>\n",
              "      <td>4</td>\n",
              "      <td>3</td>\n",
              "      <td>5</td>\n",
              "      <td>5</td>\n",
              "      <td>4</td>\n",
              "      <td>4</td>\n",
              "      <td>3</td>\n",
              "      <td>Starbucks Website/Apps;Social Media;Emails;Dea...</td>\n",
              "      <td>Yes</td>\n",
              "    </tr>\n",
              "    <tr>\n",
              "      <th>1</th>\n",
              "      <td>2019/10/01 12:38:54 PM GMT+8</td>\n",
              "      <td>Female</td>\n",
              "      <td>From 20 to 29</td>\n",
              "      <td>Student</td>\n",
              "      <td>Less than RM25,000</td>\n",
              "      <td>Rarely</td>\n",
              "      <td>Take away</td>\n",
              "      <td>Below 30 minutes</td>\n",
              "      <td>1km - 3km</td>\n",
              "      <td>Yes</td>\n",
              "      <td>...</td>\n",
              "      <td>Less than RM20</td>\n",
              "      <td>4</td>\n",
              "      <td>3</td>\n",
              "      <td>4</td>\n",
              "      <td>4</td>\n",
              "      <td>4</td>\n",
              "      <td>5</td>\n",
              "      <td>2</td>\n",
              "      <td>Social Media;In Store displays</td>\n",
              "      <td>Yes</td>\n",
              "    </tr>\n",
              "  </tbody>\n",
              "</table>\n",
              "<p>2 rows × 21 columns</p>\n",
              "</div>\n",
              "      <button class=\"colab-df-convert\" onclick=\"convertToInteractive('df-bfaaccfc-7738-4795-a9cd-596f194b154a')\"\n",
              "              title=\"Convert this dataframe to an interactive table.\"\n",
              "              style=\"display:none;\">\n",
              "\n",
              "  <svg xmlns=\"http://www.w3.org/2000/svg\" height=\"24px\"viewBox=\"0 0 24 24\"\n",
              "       width=\"24px\">\n",
              "    <path d=\"M0 0h24v24H0V0z\" fill=\"none\"/>\n",
              "    <path d=\"M18.56 5.44l.94 2.06.94-2.06 2.06-.94-2.06-.94-.94-2.06-.94 2.06-2.06.94zm-11 1L8.5 8.5l.94-2.06 2.06-.94-2.06-.94L8.5 2.5l-.94 2.06-2.06.94zm10 10l.94 2.06.94-2.06 2.06-.94-2.06-.94-.94-2.06-.94 2.06-2.06.94z\"/><path d=\"M17.41 7.96l-1.37-1.37c-.4-.4-.92-.59-1.43-.59-.52 0-1.04.2-1.43.59L10.3 9.45l-7.72 7.72c-.78.78-.78 2.05 0 2.83L4 21.41c.39.39.9.59 1.41.59.51 0 1.02-.2 1.41-.59l7.78-7.78 2.81-2.81c.8-.78.8-2.07 0-2.86zM5.41 20L4 18.59l7.72-7.72 1.47 1.35L5.41 20z\"/>\n",
              "  </svg>\n",
              "      </button>\n",
              "\n",
              "\n",
              "\n",
              "    <div id=\"df-62b8ed8b-a799-43e1-8970-489ca61aff73\">\n",
              "      <button class=\"colab-df-quickchart\" onclick=\"quickchart('df-62b8ed8b-a799-43e1-8970-489ca61aff73')\"\n",
              "              title=\"Suggest charts.\"\n",
              "              style=\"display:none;\">\n",
              "\n",
              "<svg xmlns=\"http://www.w3.org/2000/svg\" height=\"24px\"viewBox=\"0 0 24 24\"\n",
              "     width=\"24px\">\n",
              "    <g>\n",
              "        <path d=\"M19 3H5c-1.1 0-2 .9-2 2v14c0 1.1.9 2 2 2h14c1.1 0 2-.9 2-2V5c0-1.1-.9-2-2-2zM9 17H7v-7h2v7zm4 0h-2V7h2v10zm4 0h-2v-4h2v4z\"/>\n",
              "    </g>\n",
              "</svg>\n",
              "      </button>\n",
              "    </div>\n",
              "\n",
              "<style>\n",
              "  .colab-df-quickchart {\n",
              "    background-color: #E8F0FE;\n",
              "    border: none;\n",
              "    border-radius: 50%;\n",
              "    cursor: pointer;\n",
              "    display: none;\n",
              "    fill: #1967D2;\n",
              "    height: 32px;\n",
              "    padding: 0 0 0 0;\n",
              "    width: 32px;\n",
              "  }\n",
              "\n",
              "  .colab-df-quickchart:hover {\n",
              "    background-color: #E2EBFA;\n",
              "    box-shadow: 0px 1px 2px rgba(60, 64, 67, 0.3), 0px 1px 3px 1px rgba(60, 64, 67, 0.15);\n",
              "    fill: #174EA6;\n",
              "  }\n",
              "\n",
              "  [theme=dark] .colab-df-quickchart {\n",
              "    background-color: #3B4455;\n",
              "    fill: #D2E3FC;\n",
              "  }\n",
              "\n",
              "  [theme=dark] .colab-df-quickchart:hover {\n",
              "    background-color: #434B5C;\n",
              "    box-shadow: 0px 1px 3px 1px rgba(0, 0, 0, 0.15);\n",
              "    filter: drop-shadow(0px 1px 2px rgba(0, 0, 0, 0.3));\n",
              "    fill: #FFFFFF;\n",
              "  }\n",
              "</style>\n",
              "\n",
              "    <script>\n",
              "      async function quickchart(key) {\n",
              "        const containerElement = document.querySelector('#' + key);\n",
              "        const charts = await google.colab.kernel.invokeFunction(\n",
              "            'suggestCharts', [key], {});\n",
              "      }\n",
              "    </script>\n",
              "\n",
              "      <script>\n",
              "\n",
              "function displayQuickchartButton(domScope) {\n",
              "  let quickchartButtonEl =\n",
              "    domScope.querySelector('#df-62b8ed8b-a799-43e1-8970-489ca61aff73 button.colab-df-quickchart');\n",
              "  quickchartButtonEl.style.display =\n",
              "    google.colab.kernel.accessAllowed ? 'block' : 'none';\n",
              "}\n",
              "\n",
              "        displayQuickchartButton(document);\n",
              "      </script>\n",
              "      <style>\n",
              "    .colab-df-container {\n",
              "      display:flex;\n",
              "      flex-wrap:wrap;\n",
              "      gap: 12px;\n",
              "    }\n",
              "\n",
              "    .colab-df-convert {\n",
              "      background-color: #E8F0FE;\n",
              "      border: none;\n",
              "      border-radius: 50%;\n",
              "      cursor: pointer;\n",
              "      display: none;\n",
              "      fill: #1967D2;\n",
              "      height: 32px;\n",
              "      padding: 0 0 0 0;\n",
              "      width: 32px;\n",
              "    }\n",
              "\n",
              "    .colab-df-convert:hover {\n",
              "      background-color: #E2EBFA;\n",
              "      box-shadow: 0px 1px 2px rgba(60, 64, 67, 0.3), 0px 1px 3px 1px rgba(60, 64, 67, 0.15);\n",
              "      fill: #174EA6;\n",
              "    }\n",
              "\n",
              "    [theme=dark] .colab-df-convert {\n",
              "      background-color: #3B4455;\n",
              "      fill: #D2E3FC;\n",
              "    }\n",
              "\n",
              "    [theme=dark] .colab-df-convert:hover {\n",
              "      background-color: #434B5C;\n",
              "      box-shadow: 0px 1px 3px 1px rgba(0, 0, 0, 0.15);\n",
              "      filter: drop-shadow(0px 1px 2px rgba(0, 0, 0, 0.3));\n",
              "      fill: #FFFFFF;\n",
              "    }\n",
              "  </style>\n",
              "\n",
              "      <script>\n",
              "        const buttonEl =\n",
              "          document.querySelector('#df-bfaaccfc-7738-4795-a9cd-596f194b154a button.colab-df-convert');\n",
              "        buttonEl.style.display =\n",
              "          google.colab.kernel.accessAllowed ? 'block' : 'none';\n",
              "\n",
              "        async function convertToInteractive(key) {\n",
              "          const element = document.querySelector('#df-bfaaccfc-7738-4795-a9cd-596f194b154a');\n",
              "          const dataTable =\n",
              "            await google.colab.kernel.invokeFunction('convertToInteractive',\n",
              "                                                     [key], {});\n",
              "          if (!dataTable) return;\n",
              "\n",
              "          const docLinkHtml = 'Like what you see? Visit the ' +\n",
              "            '<a target=\"_blank\" href=https://colab.research.google.com/notebooks/data_table.ipynb>data table notebook</a>'\n",
              "            + ' to learn more about interactive tables.';\n",
              "          element.innerHTML = '';\n",
              "          dataTable['output_type'] = 'display_data';\n",
              "          await google.colab.output.renderOutput(dataTable, element);\n",
              "          const docLink = document.createElement('div');\n",
              "          docLink.innerHTML = docLinkHtml;\n",
              "          element.appendChild(docLink);\n",
              "        }\n",
              "      </script>\n",
              "    </div>\n",
              "  </div>\n"
            ]
          },
          "metadata": {},
          "execution_count": 51
        }
      ]
    },
    {
      "cell_type": "markdown",
      "source": [
        "## 1.3 Data Cleaning\n",
        "It is necessary to clean up the non-essential data to achieve better performance\n",
        "\n"
      ],
      "metadata": {
        "id": "8zPKzxiq9nTN"
      }
    },
    {
      "cell_type": "code",
      "source": [
        "data = survey.copy()"
      ],
      "metadata": {
        "execution": {
          "iopub.status.busy": "2021-12-29T03:39:47.419331Z",
          "iopub.execute_input": "2021-12-29T03:39:47.419623Z",
          "iopub.status.idle": "2021-12-29T03:39:47.424836Z",
          "shell.execute_reply.started": "2021-12-29T03:39:47.419592Z",
          "shell.execute_reply": "2021-12-29T03:39:47.423771Z"
        },
        "trusted": true,
        "id": "B5HRtzYr9nTN"
      },
      "execution_count": 52,
      "outputs": []
    },
    {
      "cell_type": "markdown",
      "source": [
        "Drop some columns"
      ],
      "metadata": {
        "id": "zpdLBdXVOqrV"
      }
    },
    {
      "cell_type": "code",
      "source": [
        "data.drop(columns=['Timestamp'], inplace = True)\n",
        "data.drop(columns=['10. What do you most frequently purchase at Starbucks?'], inplace = True)\n",
        "data.drop(columns=['19. How do you come to hear of promotions at Starbucks? Check all that apply.'], inplace = True)"
      ],
      "metadata": {
        "execution": {
          "iopub.status.busy": "2021-12-29T03:39:50.589441Z",
          "iopub.execute_input": "2021-12-29T03:39:50.590468Z",
          "iopub.status.idle": "2021-12-29T03:39:50.60428Z",
          "shell.execute_reply.started": "2021-12-29T03:39:50.590408Z",
          "shell.execute_reply": "2021-12-29T03:39:50.603289Z"
        },
        "trusted": true,
        "id": "ntIJaS6h9nTN"
      },
      "execution_count": 53,
      "outputs": []
    },
    {
      "cell_type": "markdown",
      "source": [
        "Rename the columns"
      ],
      "metadata": {
        "id": "ETdZ_VLLOstx"
      }
    },
    {
      "cell_type": "code",
      "source": [
        "data.rename({'1. Your Gender' : 'Gender', '2. Your Age' : 'Age', '3. Are you currently....?' : 'Work_Status', '4. What is your annual income?' : 'Annual_Income', '5. How often do you visit Starbucks?' : 'Visit', '6. How do you usually enjoy Starbucks?' : 'Visit_Type', '7. How much time do you normally  spend during your visit?' : 'Visit_Duration', \"8. The nearest Starbucks's outlet to you is...?\" : 'Distance', '9. Do you have Starbucks membership card?' : 'Membership', '11. On average, how much would you spend at Starbucks per visit?' : 'Spending', '12. How would you rate the quality of Starbucks compared to other brands (Coffee Bean, Old Town White Coffee..) to be:' : 'Product_Rating', '13. How would you rate the price range at Starbucks?' : 'Price_Rating', '14. How important are sales and promotions in your purchase decision?' : 'Promo_Rating', '15. How would you rate the ambiance at Starbucks? (lighting, music, etc...)' : 'Ambiance_Rating', '16. You rate the WiFi quality at Starbucks as..' : 'Wifi_Rating', '17. How would you rate the service at Starbucks? (Promptness, friendliness, etc..)' : 'Service_Rating', '18. How likely you will choose Starbucks for doing business meetings or hangout with friends?' : 'Hangout_Rating', '20. Will you continue buying at Starbucks?' : 'Loyality'} , inplace = True , axis = 1)"
      ],
      "metadata": {
        "execution": {
          "iopub.status.busy": "2021-12-29T03:39:53.731146Z",
          "iopub.execute_input": "2021-12-29T03:39:53.732369Z",
          "iopub.status.idle": "2021-12-29T03:39:53.740939Z",
          "shell.execute_reply.started": "2021-12-29T03:39:53.732267Z",
          "shell.execute_reply": "2021-12-29T03:39:53.739697Z"
        },
        "trusted": true,
        "id": "jO92AzcJ9nTN"
      },
      "execution_count": 9,
      "outputs": []
    },
    {
      "cell_type": "code",
      "source": [
        "data.head()"
      ],
      "metadata": {
        "execution": {
          "iopub.status.busy": "2021-12-29T03:39:57.175428Z",
          "iopub.execute_input": "2021-12-29T03:39:57.176425Z",
          "iopub.status.idle": "2021-12-29T03:39:57.197048Z",
          "shell.execute_reply.started": "2021-12-29T03:39:57.176376Z",
          "shell.execute_reply": "2021-12-29T03:39:57.196394Z"
        },
        "trusted": true,
        "colab": {
          "base_uri": "https://localhost:8080/",
          "height": 443
        },
        "id": "hk1hg6jw9nTO",
        "outputId": "903f0e09-acd9-4a9d-a9f3-aa193c8613f7"
      },
      "execution_count": 10,
      "outputs": [
        {
          "output_type": "execute_result",
          "data": {
            "text/plain": [
              "   Gender            Age Work_Status       Annual_Income    Visit Visit_Type  \\\n",
              "0  Female  From 20 to 29     Student  Less than RM25,000   Rarely    Dine in   \n",
              "1  Female  From 20 to 29     Student  Less than RM25,000   Rarely  Take away   \n",
              "2    Male  From 20 to 29    Employed  Less than RM25,000  Monthly    Dine in   \n",
              "3  Female  From 20 to 29     Student  Less than RM25,000   Rarely  Take away   \n",
              "4    Male  From 20 to 29     Student  Less than RM25,000  Monthly  Take away   \n",
              "\n",
              "                 Visit_Duration       Distance Membership            Spending  \\\n",
              "0  Between 30 minutes to 1 hour     within 1km        Yes      Less than RM20   \n",
              "1              Below 30 minutes      1km - 3km        Yes      Less than RM20   \n",
              "2  Between 30 minutes to 1 hour  more than 3km        Yes      Less than RM20   \n",
              "3              Below 30 minutes  more than 3km         No      Less than RM20   \n",
              "4  Between 30 minutes to 1 hour      1km - 3km         No  Around RM20 - RM40   \n",
              "\n",
              "   Product_Rating  Price_Rating  Promo_Rating  Ambiance_Rating  Wifi_Rating  \\\n",
              "0               4             3             5                5            4   \n",
              "1               4             3             4                4            4   \n",
              "2               4             3             4                4            4   \n",
              "3               2             1             4                3            3   \n",
              "4               3             3             4                2            2   \n",
              "\n",
              "   Service_Rating  Hangout_Rating Loyality  \n",
              "0               4               3      Yes  \n",
              "1               5               2      Yes  \n",
              "2               4               3      Yes  \n",
              "3               3               3       No  \n",
              "4               3               3      Yes  "
            ],
            "text/html": [
              "\n",
              "\n",
              "  <div id=\"df-261e4993-ed61-4b0e-8c05-aff9b7918a99\">\n",
              "    <div class=\"colab-df-container\">\n",
              "      <div>\n",
              "<style scoped>\n",
              "    .dataframe tbody tr th:only-of-type {\n",
              "        vertical-align: middle;\n",
              "    }\n",
              "\n",
              "    .dataframe tbody tr th {\n",
              "        vertical-align: top;\n",
              "    }\n",
              "\n",
              "    .dataframe thead th {\n",
              "        text-align: right;\n",
              "    }\n",
              "</style>\n",
              "<table border=\"1\" class=\"dataframe\">\n",
              "  <thead>\n",
              "    <tr style=\"text-align: right;\">\n",
              "      <th></th>\n",
              "      <th>Gender</th>\n",
              "      <th>Age</th>\n",
              "      <th>Work_Status</th>\n",
              "      <th>Annual_Income</th>\n",
              "      <th>Visit</th>\n",
              "      <th>Visit_Type</th>\n",
              "      <th>Visit_Duration</th>\n",
              "      <th>Distance</th>\n",
              "      <th>Membership</th>\n",
              "      <th>Spending</th>\n",
              "      <th>Product_Rating</th>\n",
              "      <th>Price_Rating</th>\n",
              "      <th>Promo_Rating</th>\n",
              "      <th>Ambiance_Rating</th>\n",
              "      <th>Wifi_Rating</th>\n",
              "      <th>Service_Rating</th>\n",
              "      <th>Hangout_Rating</th>\n",
              "      <th>Loyality</th>\n",
              "    </tr>\n",
              "  </thead>\n",
              "  <tbody>\n",
              "    <tr>\n",
              "      <th>0</th>\n",
              "      <td>Female</td>\n",
              "      <td>From 20 to 29</td>\n",
              "      <td>Student</td>\n",
              "      <td>Less than RM25,000</td>\n",
              "      <td>Rarely</td>\n",
              "      <td>Dine in</td>\n",
              "      <td>Between 30 minutes to 1 hour</td>\n",
              "      <td>within 1km</td>\n",
              "      <td>Yes</td>\n",
              "      <td>Less than RM20</td>\n",
              "      <td>4</td>\n",
              "      <td>3</td>\n",
              "      <td>5</td>\n",
              "      <td>5</td>\n",
              "      <td>4</td>\n",
              "      <td>4</td>\n",
              "      <td>3</td>\n",
              "      <td>Yes</td>\n",
              "    </tr>\n",
              "    <tr>\n",
              "      <th>1</th>\n",
              "      <td>Female</td>\n",
              "      <td>From 20 to 29</td>\n",
              "      <td>Student</td>\n",
              "      <td>Less than RM25,000</td>\n",
              "      <td>Rarely</td>\n",
              "      <td>Take away</td>\n",
              "      <td>Below 30 minutes</td>\n",
              "      <td>1km - 3km</td>\n",
              "      <td>Yes</td>\n",
              "      <td>Less than RM20</td>\n",
              "      <td>4</td>\n",
              "      <td>3</td>\n",
              "      <td>4</td>\n",
              "      <td>4</td>\n",
              "      <td>4</td>\n",
              "      <td>5</td>\n",
              "      <td>2</td>\n",
              "      <td>Yes</td>\n",
              "    </tr>\n",
              "    <tr>\n",
              "      <th>2</th>\n",
              "      <td>Male</td>\n",
              "      <td>From 20 to 29</td>\n",
              "      <td>Employed</td>\n",
              "      <td>Less than RM25,000</td>\n",
              "      <td>Monthly</td>\n",
              "      <td>Dine in</td>\n",
              "      <td>Between 30 minutes to 1 hour</td>\n",
              "      <td>more than 3km</td>\n",
              "      <td>Yes</td>\n",
              "      <td>Less than RM20</td>\n",
              "      <td>4</td>\n",
              "      <td>3</td>\n",
              "      <td>4</td>\n",
              "      <td>4</td>\n",
              "      <td>4</td>\n",
              "      <td>4</td>\n",
              "      <td>3</td>\n",
              "      <td>Yes</td>\n",
              "    </tr>\n",
              "    <tr>\n",
              "      <th>3</th>\n",
              "      <td>Female</td>\n",
              "      <td>From 20 to 29</td>\n",
              "      <td>Student</td>\n",
              "      <td>Less than RM25,000</td>\n",
              "      <td>Rarely</td>\n",
              "      <td>Take away</td>\n",
              "      <td>Below 30 minutes</td>\n",
              "      <td>more than 3km</td>\n",
              "      <td>No</td>\n",
              "      <td>Less than RM20</td>\n",
              "      <td>2</td>\n",
              "      <td>1</td>\n",
              "      <td>4</td>\n",
              "      <td>3</td>\n",
              "      <td>3</td>\n",
              "      <td>3</td>\n",
              "      <td>3</td>\n",
              "      <td>No</td>\n",
              "    </tr>\n",
              "    <tr>\n",
              "      <th>4</th>\n",
              "      <td>Male</td>\n",
              "      <td>From 20 to 29</td>\n",
              "      <td>Student</td>\n",
              "      <td>Less than RM25,000</td>\n",
              "      <td>Monthly</td>\n",
              "      <td>Take away</td>\n",
              "      <td>Between 30 minutes to 1 hour</td>\n",
              "      <td>1km - 3km</td>\n",
              "      <td>No</td>\n",
              "      <td>Around RM20 - RM40</td>\n",
              "      <td>3</td>\n",
              "      <td>3</td>\n",
              "      <td>4</td>\n",
              "      <td>2</td>\n",
              "      <td>2</td>\n",
              "      <td>3</td>\n",
              "      <td>3</td>\n",
              "      <td>Yes</td>\n",
              "    </tr>\n",
              "  </tbody>\n",
              "</table>\n",
              "</div>\n",
              "      <button class=\"colab-df-convert\" onclick=\"convertToInteractive('df-261e4993-ed61-4b0e-8c05-aff9b7918a99')\"\n",
              "              title=\"Convert this dataframe to an interactive table.\"\n",
              "              style=\"display:none;\">\n",
              "\n",
              "  <svg xmlns=\"http://www.w3.org/2000/svg\" height=\"24px\"viewBox=\"0 0 24 24\"\n",
              "       width=\"24px\">\n",
              "    <path d=\"M0 0h24v24H0V0z\" fill=\"none\"/>\n",
              "    <path d=\"M18.56 5.44l.94 2.06.94-2.06 2.06-.94-2.06-.94-.94-2.06-.94 2.06-2.06.94zm-11 1L8.5 8.5l.94-2.06 2.06-.94-2.06-.94L8.5 2.5l-.94 2.06-2.06.94zm10 10l.94 2.06.94-2.06 2.06-.94-2.06-.94-.94-2.06-.94 2.06-2.06.94z\"/><path d=\"M17.41 7.96l-1.37-1.37c-.4-.4-.92-.59-1.43-.59-.52 0-1.04.2-1.43.59L10.3 9.45l-7.72 7.72c-.78.78-.78 2.05 0 2.83L4 21.41c.39.39.9.59 1.41.59.51 0 1.02-.2 1.41-.59l7.78-7.78 2.81-2.81c.8-.78.8-2.07 0-2.86zM5.41 20L4 18.59l7.72-7.72 1.47 1.35L5.41 20z\"/>\n",
              "  </svg>\n",
              "      </button>\n",
              "\n",
              "\n",
              "\n",
              "    <div id=\"df-e8a1be03-fa5c-47e6-9173-2cd6728ba720\">\n",
              "      <button class=\"colab-df-quickchart\" onclick=\"quickchart('df-e8a1be03-fa5c-47e6-9173-2cd6728ba720')\"\n",
              "              title=\"Suggest charts.\"\n",
              "              style=\"display:none;\">\n",
              "\n",
              "<svg xmlns=\"http://www.w3.org/2000/svg\" height=\"24px\"viewBox=\"0 0 24 24\"\n",
              "     width=\"24px\">\n",
              "    <g>\n",
              "        <path d=\"M19 3H5c-1.1 0-2 .9-2 2v14c0 1.1.9 2 2 2h14c1.1 0 2-.9 2-2V5c0-1.1-.9-2-2-2zM9 17H7v-7h2v7zm4 0h-2V7h2v10zm4 0h-2v-4h2v4z\"/>\n",
              "    </g>\n",
              "</svg>\n",
              "      </button>\n",
              "    </div>\n",
              "\n",
              "<style>\n",
              "  .colab-df-quickchart {\n",
              "    background-color: #E8F0FE;\n",
              "    border: none;\n",
              "    border-radius: 50%;\n",
              "    cursor: pointer;\n",
              "    display: none;\n",
              "    fill: #1967D2;\n",
              "    height: 32px;\n",
              "    padding: 0 0 0 0;\n",
              "    width: 32px;\n",
              "  }\n",
              "\n",
              "  .colab-df-quickchart:hover {\n",
              "    background-color: #E2EBFA;\n",
              "    box-shadow: 0px 1px 2px rgba(60, 64, 67, 0.3), 0px 1px 3px 1px rgba(60, 64, 67, 0.15);\n",
              "    fill: #174EA6;\n",
              "  }\n",
              "\n",
              "  [theme=dark] .colab-df-quickchart {\n",
              "    background-color: #3B4455;\n",
              "    fill: #D2E3FC;\n",
              "  }\n",
              "\n",
              "  [theme=dark] .colab-df-quickchart:hover {\n",
              "    background-color: #434B5C;\n",
              "    box-shadow: 0px 1px 3px 1px rgba(0, 0, 0, 0.15);\n",
              "    filter: drop-shadow(0px 1px 2px rgba(0, 0, 0, 0.3));\n",
              "    fill: #FFFFFF;\n",
              "  }\n",
              "</style>\n",
              "\n",
              "    <script>\n",
              "      async function quickchart(key) {\n",
              "        const containerElement = document.querySelector('#' + key);\n",
              "        const charts = await google.colab.kernel.invokeFunction(\n",
              "            'suggestCharts', [key], {});\n",
              "      }\n",
              "    </script>\n",
              "\n",
              "      <script>\n",
              "\n",
              "function displayQuickchartButton(domScope) {\n",
              "  let quickchartButtonEl =\n",
              "    domScope.querySelector('#df-e8a1be03-fa5c-47e6-9173-2cd6728ba720 button.colab-df-quickchart');\n",
              "  quickchartButtonEl.style.display =\n",
              "    google.colab.kernel.accessAllowed ? 'block' : 'none';\n",
              "}\n",
              "\n",
              "        displayQuickchartButton(document);\n",
              "      </script>\n",
              "      <style>\n",
              "    .colab-df-container {\n",
              "      display:flex;\n",
              "      flex-wrap:wrap;\n",
              "      gap: 12px;\n",
              "    }\n",
              "\n",
              "    .colab-df-convert {\n",
              "      background-color: #E8F0FE;\n",
              "      border: none;\n",
              "      border-radius: 50%;\n",
              "      cursor: pointer;\n",
              "      display: none;\n",
              "      fill: #1967D2;\n",
              "      height: 32px;\n",
              "      padding: 0 0 0 0;\n",
              "      width: 32px;\n",
              "    }\n",
              "\n",
              "    .colab-df-convert:hover {\n",
              "      background-color: #E2EBFA;\n",
              "      box-shadow: 0px 1px 2px rgba(60, 64, 67, 0.3), 0px 1px 3px 1px rgba(60, 64, 67, 0.15);\n",
              "      fill: #174EA6;\n",
              "    }\n",
              "\n",
              "    [theme=dark] .colab-df-convert {\n",
              "      background-color: #3B4455;\n",
              "      fill: #D2E3FC;\n",
              "    }\n",
              "\n",
              "    [theme=dark] .colab-df-convert:hover {\n",
              "      background-color: #434B5C;\n",
              "      box-shadow: 0px 1px 3px 1px rgba(0, 0, 0, 0.15);\n",
              "      filter: drop-shadow(0px 1px 2px rgba(0, 0, 0, 0.3));\n",
              "      fill: #FFFFFF;\n",
              "    }\n",
              "  </style>\n",
              "\n",
              "      <script>\n",
              "        const buttonEl =\n",
              "          document.querySelector('#df-261e4993-ed61-4b0e-8c05-aff9b7918a99 button.colab-df-convert');\n",
              "        buttonEl.style.display =\n",
              "          google.colab.kernel.accessAllowed ? 'block' : 'none';\n",
              "\n",
              "        async function convertToInteractive(key) {\n",
              "          const element = document.querySelector('#df-261e4993-ed61-4b0e-8c05-aff9b7918a99');\n",
              "          const dataTable =\n",
              "            await google.colab.kernel.invokeFunction('convertToInteractive',\n",
              "                                                     [key], {});\n",
              "          if (!dataTable) return;\n",
              "\n",
              "          const docLinkHtml = 'Like what you see? Visit the ' +\n",
              "            '<a target=\"_blank\" href=https://colab.research.google.com/notebooks/data_table.ipynb>data table notebook</a>'\n",
              "            + ' to learn more about interactive tables.';\n",
              "          element.innerHTML = '';\n",
              "          dataTable['output_type'] = 'display_data';\n",
              "          await google.colab.output.renderOutput(dataTable, element);\n",
              "          const docLink = document.createElement('div');\n",
              "          docLink.innerHTML = docLinkHtml;\n",
              "          element.appendChild(docLink);\n",
              "        }\n",
              "      </script>\n",
              "    </div>\n",
              "  </div>\n"
            ]
          },
          "metadata": {},
          "execution_count": 10
        }
      ]
    },
    {
      "cell_type": "markdown",
      "source": [
        "**Variable Description**\n",
        "\n",
        "* *Gender*: Female or Male.\n",
        "* *Age*: Age range of respondents.\n",
        "* *Work_Status*: Respondent's employment status.\n",
        "* *Annual_Income*: Respondent's income (in Malaysian Ringgit).\n",
        "* *Visit*: How often the respondent visits.\n",
        "* *Visit_Type*: Type of visit (eat in or take away).\n",
        "* *Visit_Duration*: Length of visit.\n",
        "* *Distance*: The distance of the nearest Starbucks outlet from the respondent's location.\n",
        "* *Membership*: Ownership of respondent's membership card.\n",
        "* *Spending*: The respondent's average purchase expenditure.\n",
        "* *Product_Rating*: Product rating by respondents on a scale of 1-5.\n",
        "* *Price_Rating*: Price rating by respondents on a scale of 1-5.\n",
        "* *Promo_Rating*: Promotion rating by respondents on a scale of 1-5.\n",
        "* *Ambiance_Rating*: Atmosphere rating by respondents on a scale of 1-5.\n",
        "* *Wifi_Rating*: WiFi rating by respondents on a scale of 1-5.\n",
        "* *Service_Rating*: Service rating by respondents on a scale of 1-5.\n",
        "* *Hangout_Rating*: The suitability rating as a hangout place by respondents on a scale of 1-5.\n",
        "\n",
        "**Variable Target**\n",
        "\n",
        "* *Loyality*: Customer loyalty in product purchases. Will they continue buying at Starbucks? Yes, or no.\n",
        "\n",
        "\n",
        "\n"
      ],
      "metadata": {
        "id": "Mn2MNA0z9nTO"
      }
    },
    {
      "cell_type": "markdown",
      "source": [
        "\n",
        "\n",
        "---\n",
        "\n",
        "\n",
        "# **2. Data Preprocessing**\n"
      ],
      "metadata": {
        "id": "MW85ShP79nTO"
      }
    },
    {
      "cell_type": "markdown",
      "source": [
        "\n",
        "## 2.1 Missing Values\n",
        "Missing values are natural in a dataset and should be removed or imputted.\n",
        "\n"
      ],
      "metadata": {
        "id": "VwYz2DLh9nTO"
      }
    },
    {
      "cell_type": "code",
      "source": [
        "# Check for missing values\n",
        "data.isnull().any()"
      ],
      "metadata": {
        "execution": {
          "iopub.status.busy": "2021-12-29T03:40:10.181132Z",
          "iopub.execute_input": "2021-12-29T03:40:10.182346Z",
          "iopub.status.idle": "2021-12-29T03:40:10.194302Z",
          "shell.execute_reply.started": "2021-12-29T03:40:10.182282Z",
          "shell.execute_reply": "2021-12-29T03:40:10.193232Z"
        },
        "trusted": true,
        "colab": {
          "base_uri": "https://localhost:8080/"
        },
        "id": "3mGzi9m69nTO",
        "outputId": "a4f793c6-ca62-41dc-f042-3f433f314048"
      },
      "execution_count": 11,
      "outputs": [
        {
          "output_type": "execute_result",
          "data": {
            "text/plain": [
              "Gender             False\n",
              "Age                False\n",
              "Work_Status        False\n",
              "Annual_Income      False\n",
              "Visit              False\n",
              "Visit_Type          True\n",
              "Visit_Duration     False\n",
              "Distance           False\n",
              "Membership         False\n",
              "Spending           False\n",
              "Product_Rating     False\n",
              "Price_Rating       False\n",
              "Promo_Rating       False\n",
              "Ambiance_Rating    False\n",
              "Wifi_Rating        False\n",
              "Service_Rating     False\n",
              "Hangout_Rating     False\n",
              "Loyality           False\n",
              "dtype: bool"
            ]
          },
          "metadata": {},
          "execution_count": 11
        }
      ]
    },
    {
      "cell_type": "code",
      "source": [
        "# Missing value is written as nan\n",
        "data['Visit_Type'].unique()"
      ],
      "metadata": {
        "execution": {
          "iopub.status.busy": "2021-12-29T03:40:16.26036Z",
          "iopub.execute_input": "2021-12-29T03:40:16.261138Z",
          "iopub.status.idle": "2021-12-29T03:40:16.270189Z",
          "shell.execute_reply.started": "2021-12-29T03:40:16.261093Z",
          "shell.execute_reply": "2021-12-29T03:40:16.269463Z"
        },
        "trusted": true,
        "colab": {
          "base_uri": "https://localhost:8080/"
        },
        "id": "icPy6UVL9nTP",
        "outputId": "6706b0a0-47c9-4585-85c6-c4a1cd987302"
      },
      "execution_count": 12,
      "outputs": [
        {
          "output_type": "execute_result",
          "data": {
            "text/plain": [
              "array(['Dine in', 'Take away', 'Drive-thru', 'never', 'Never buy', nan,\n",
              "       'I dont like coffee', 'Never', 'Never '], dtype=object)"
            ]
          },
          "metadata": {},
          "execution_count": 12
        }
      ]
    },
    {
      "cell_type": "code",
      "source": [
        "# Change the value of nan to never\n",
        "data['Visit_Type'].fillna('never', inplace = True)"
      ],
      "metadata": {
        "execution": {
          "iopub.status.busy": "2021-12-29T03:40:19.365785Z",
          "iopub.execute_input": "2021-12-29T03:40:19.366676Z",
          "iopub.status.idle": "2021-12-29T03:40:19.37261Z",
          "shell.execute_reply.started": "2021-12-29T03:40:19.366627Z",
          "shell.execute_reply": "2021-12-29T03:40:19.371541Z"
        },
        "trusted": true,
        "id": "VThWjzLu9nTP"
      },
      "execution_count": 13,
      "outputs": []
    },
    {
      "cell_type": "code",
      "source": [
        "# Delete redundant data to the Never Buy value\n",
        "data['Visit_Type'].replace(['never', 'Never buy', 'I dont like coffee', 'Never', 'Never '], 'Never buy', inplace = True)\n",
        "data['Visit_Type'].value_counts()"
      ],
      "metadata": {
        "execution": {
          "iopub.status.busy": "2021-12-29T03:40:22.80971Z",
          "iopub.execute_input": "2021-12-29T03:40:22.810459Z",
          "iopub.status.idle": "2021-12-29T03:40:22.825674Z",
          "shell.execute_reply.started": "2021-12-29T03:40:22.810415Z",
          "shell.execute_reply": "2021-12-29T03:40:22.824157Z"
        },
        "trusted": true,
        "colab": {
          "base_uri": "https://localhost:8080/"
        },
        "id": "8NGdj7mf9nTP",
        "outputId": "64355ac8-7605-4f38-e64c-f3f93dbdc51d"
      },
      "execution_count": 14,
      "outputs": [
        {
          "output_type": "execute_result",
          "data": {
            "text/plain": [
              "Take away     49\n",
              "Dine in       46\n",
              "Drive-thru    20\n",
              "Never buy      7\n",
              "Name: Visit_Type, dtype: int64"
            ]
          },
          "metadata": {},
          "execution_count": 14
        }
      ]
    },
    {
      "cell_type": "code",
      "source": [
        "# Make sure there are no more missing values\n",
        "data.isnull().any()"
      ],
      "metadata": {
        "execution": {
          "iopub.status.busy": "2021-12-29T03:40:26.75627Z",
          "iopub.execute_input": "2021-12-29T03:40:26.757329Z",
          "iopub.status.idle": "2021-12-29T03:40:26.766561Z",
          "shell.execute_reply.started": "2021-12-29T03:40:26.757291Z",
          "shell.execute_reply": "2021-12-29T03:40:26.765451Z"
        },
        "trusted": true,
        "colab": {
          "base_uri": "https://localhost:8080/"
        },
        "id": "EbIVsECZ9nTP",
        "outputId": "1a71d0eb-bc61-4771-9656-fbb466410151"
      },
      "execution_count": 15,
      "outputs": [
        {
          "output_type": "execute_result",
          "data": {
            "text/plain": [
              "Gender             False\n",
              "Age                False\n",
              "Work_Status        False\n",
              "Annual_Income      False\n",
              "Visit              False\n",
              "Visit_Type         False\n",
              "Visit_Duration     False\n",
              "Distance           False\n",
              "Membership         False\n",
              "Spending           False\n",
              "Product_Rating     False\n",
              "Price_Rating       False\n",
              "Promo_Rating       False\n",
              "Ambiance_Rating    False\n",
              "Wifi_Rating        False\n",
              "Service_Rating     False\n",
              "Hangout_Rating     False\n",
              "Loyality           False\n",
              "dtype: bool"
            ]
          },
          "metadata": {},
          "execution_count": 15
        }
      ]
    },
    {
      "cell_type": "markdown",
      "source": [
        "\n",
        "## 2.2 Change Categorical Variables to Numerical\n",
        "For ML model, the categorical data should be replaced by numerical values.\n",
        "\n"
      ],
      "metadata": {
        "id": "3X7iaV549nTP"
      }
    },
    {
      "cell_type": "code",
      "source": [
        "data.dtypes"
      ],
      "metadata": {
        "execution": {
          "iopub.status.busy": "2021-12-29T03:40:29.569576Z",
          "iopub.execute_input": "2021-12-29T03:40:29.569876Z",
          "iopub.status.idle": "2021-12-29T03:40:29.57799Z",
          "shell.execute_reply.started": "2021-12-29T03:40:29.569846Z",
          "shell.execute_reply": "2021-12-29T03:40:29.577443Z"
        },
        "trusted": true,
        "colab": {
          "base_uri": "https://localhost:8080/"
        },
        "id": "iP87qIuJ9nTP",
        "outputId": "2f2bb6db-5ba3-4f6e-fcfb-80c99b553ff3"
      },
      "execution_count": 16,
      "outputs": [
        {
          "output_type": "execute_result",
          "data": {
            "text/plain": [
              "Gender             object\n",
              "Age                object\n",
              "Work_Status        object\n",
              "Annual_Income      object\n",
              "Visit              object\n",
              "Visit_Type         object\n",
              "Visit_Duration     object\n",
              "Distance           object\n",
              "Membership         object\n",
              "Spending           object\n",
              "Product_Rating      int64\n",
              "Price_Rating        int64\n",
              "Promo_Rating        int64\n",
              "Ambiance_Rating     int64\n",
              "Wifi_Rating         int64\n",
              "Service_Rating      int64\n",
              "Hangout_Rating      int64\n",
              "Loyality           object\n",
              "dtype: object"
            ]
          },
          "metadata": {},
          "execution_count": 16
        }
      ]
    },
    {
      "cell_type": "code",
      "source": [
        "data['Gender'].unique()"
      ],
      "metadata": {
        "execution": {
          "iopub.status.busy": "2021-12-29T03:40:35.678348Z",
          "iopub.execute_input": "2021-12-29T03:40:35.678751Z",
          "iopub.status.idle": "2021-12-29T03:40:35.686119Z",
          "shell.execute_reply.started": "2021-12-29T03:40:35.678723Z",
          "shell.execute_reply": "2021-12-29T03:40:35.685233Z"
        },
        "trusted": true,
        "colab": {
          "base_uri": "https://localhost:8080/"
        },
        "id": "p9GBuRJt9nTP",
        "outputId": "1e19948b-01b9-4499-95a1-24a3a071c54d"
      },
      "execution_count": 17,
      "outputs": [
        {
          "output_type": "execute_result",
          "data": {
            "text/plain": [
              "array(['Female', 'Male'], dtype=object)"
            ]
          },
          "metadata": {},
          "execution_count": 17
        }
      ]
    },
    {
      "cell_type": "code",
      "source": [
        "data['Age'].unique()"
      ],
      "metadata": {
        "execution": {
          "iopub.status.busy": "2021-12-29T03:40:39.195276Z",
          "iopub.execute_input": "2021-12-29T03:40:39.195929Z",
          "iopub.status.idle": "2021-12-29T03:40:39.203723Z",
          "shell.execute_reply.started": "2021-12-29T03:40:39.195891Z",
          "shell.execute_reply": "2021-12-29T03:40:39.202099Z"
        },
        "trusted": true,
        "colab": {
          "base_uri": "https://localhost:8080/"
        },
        "id": "eu24TVv59nTP",
        "outputId": "67c0a3af-7785-4720-eb1b-e7d1f5676b60"
      },
      "execution_count": 18,
      "outputs": [
        {
          "output_type": "execute_result",
          "data": {
            "text/plain": [
              "array(['From 20 to 29', 'From 30 to 39', '40 and above', 'Below 20'],\n",
              "      dtype=object)"
            ]
          },
          "metadata": {},
          "execution_count": 18
        }
      ]
    },
    {
      "cell_type": "code",
      "source": [
        "data['Work_Status'].unique()"
      ],
      "metadata": {
        "execution": {
          "iopub.status.busy": "2021-12-29T03:40:45.411572Z",
          "iopub.execute_input": "2021-12-29T03:40:45.411857Z",
          "iopub.status.idle": "2021-12-29T03:40:45.420146Z",
          "shell.execute_reply.started": "2021-12-29T03:40:45.411825Z",
          "shell.execute_reply": "2021-12-29T03:40:45.419142Z"
        },
        "trusted": true,
        "colab": {
          "base_uri": "https://localhost:8080/"
        },
        "id": "nbXT4Y0b9nTQ",
        "outputId": "ef9d11a0-4826-4b26-93ec-023fa8640d49"
      },
      "execution_count": 19,
      "outputs": [
        {
          "output_type": "execute_result",
          "data": {
            "text/plain": [
              "array(['Student', 'Employed', 'Self-employed', 'Housewife'], dtype=object)"
            ]
          },
          "metadata": {},
          "execution_count": 19
        }
      ]
    },
    {
      "cell_type": "code",
      "source": [
        "data['Annual_Income'].unique()"
      ],
      "metadata": {
        "execution": {
          "iopub.status.busy": "2021-12-29T03:40:51.93692Z",
          "iopub.execute_input": "2021-12-29T03:40:51.93728Z",
          "iopub.status.idle": "2021-12-29T03:40:51.944712Z",
          "shell.execute_reply.started": "2021-12-29T03:40:51.937241Z",
          "shell.execute_reply": "2021-12-29T03:40:51.943943Z"
        },
        "trusted": true,
        "colab": {
          "base_uri": "https://localhost:8080/"
        },
        "id": "KaVwkyg99nTQ",
        "outputId": "b649fb8b-a7ce-4f74-ea8d-eaf68c886ec1"
      },
      "execution_count": 20,
      "outputs": [
        {
          "output_type": "execute_result",
          "data": {
            "text/plain": [
              "array(['Less than RM25,000', 'RM50,000 - RM100,000',\n",
              "       'RM25,000 - RM50,000', 'RM100,000 - RM150,000',\n",
              "       'More than RM150,000'], dtype=object)"
            ]
          },
          "metadata": {},
          "execution_count": 20
        }
      ]
    },
    {
      "cell_type": "code",
      "source": [
        "data['Visit'].unique()"
      ],
      "metadata": {
        "execution": {
          "iopub.status.busy": "2021-12-29T03:40:56.919599Z",
          "iopub.execute_input": "2021-12-29T03:40:56.920779Z",
          "iopub.status.idle": "2021-12-29T03:40:56.928657Z",
          "shell.execute_reply.started": "2021-12-29T03:40:56.920723Z",
          "shell.execute_reply": "2021-12-29T03:40:56.92786Z"
        },
        "trusted": true,
        "colab": {
          "base_uri": "https://localhost:8080/"
        },
        "id": "zajUxPz-9nTQ",
        "outputId": "64095140-8c2d-42d7-9f94-5fdba7344940"
      },
      "execution_count": 21,
      "outputs": [
        {
          "output_type": "execute_result",
          "data": {
            "text/plain": [
              "array(['Rarely', 'Monthly', 'Weekly', 'Never', 'Daily'], dtype=object)"
            ]
          },
          "metadata": {},
          "execution_count": 21
        }
      ]
    },
    {
      "cell_type": "code",
      "source": [
        "data['Visit_Type'].unique()"
      ],
      "metadata": {
        "execution": {
          "iopub.status.busy": "2021-12-29T03:41:02.552006Z",
          "iopub.execute_input": "2021-12-29T03:41:02.552363Z",
          "iopub.status.idle": "2021-12-29T03:41:02.559815Z",
          "shell.execute_reply.started": "2021-12-29T03:41:02.552329Z",
          "shell.execute_reply": "2021-12-29T03:41:02.559033Z"
        },
        "trusted": true,
        "colab": {
          "base_uri": "https://localhost:8080/"
        },
        "id": "p09n0fVD9nTQ",
        "outputId": "2e48d324-892d-4337-d4e9-70b0f74b59f6"
      },
      "execution_count": 22,
      "outputs": [
        {
          "output_type": "execute_result",
          "data": {
            "text/plain": [
              "array(['Dine in', 'Take away', 'Drive-thru', 'Never buy'], dtype=object)"
            ]
          },
          "metadata": {},
          "execution_count": 22
        }
      ]
    },
    {
      "cell_type": "code",
      "source": [
        "data['Visit_Duration'].unique()"
      ],
      "metadata": {
        "execution": {
          "iopub.status.busy": "2021-12-29T03:41:09.476852Z",
          "iopub.execute_input": "2021-12-29T03:41:09.477153Z",
          "iopub.status.idle": "2021-12-29T03:41:09.484101Z",
          "shell.execute_reply.started": "2021-12-29T03:41:09.477124Z",
          "shell.execute_reply": "2021-12-29T03:41:09.483225Z"
        },
        "trusted": true,
        "colab": {
          "base_uri": "https://localhost:8080/"
        },
        "id": "wRvlkBaD9nTQ",
        "outputId": "d25c575c-1156-4030-f37d-61b73b7976a0"
      },
      "execution_count": 23,
      "outputs": [
        {
          "output_type": "execute_result",
          "data": {
            "text/plain": [
              "array(['Between 30 minutes to 1 hour', 'Below 30 minutes',\n",
              "       'More than 3 hours', 'Between 1 hour to 2 hours',\n",
              "       'Between 2 hours to 3 hours'], dtype=object)"
            ]
          },
          "metadata": {},
          "execution_count": 23
        }
      ]
    },
    {
      "cell_type": "code",
      "source": [
        "data['Distance'].unique()"
      ],
      "metadata": {
        "execution": {
          "iopub.status.busy": "2021-12-29T03:41:14.87076Z",
          "iopub.execute_input": "2021-12-29T03:41:14.871247Z",
          "iopub.status.idle": "2021-12-29T03:41:14.878862Z",
          "shell.execute_reply.started": "2021-12-29T03:41:14.871215Z",
          "shell.execute_reply": "2021-12-29T03:41:14.877618Z"
        },
        "trusted": true,
        "colab": {
          "base_uri": "https://localhost:8080/"
        },
        "id": "vWhTqu8z9nTQ",
        "outputId": "88a1a8f6-c434-4266-ec84-bfdd9b03432b"
      },
      "execution_count": 24,
      "outputs": [
        {
          "output_type": "execute_result",
          "data": {
            "text/plain": [
              "array(['within 1km', '1km - 3km', 'more than 3km'], dtype=object)"
            ]
          },
          "metadata": {},
          "execution_count": 24
        }
      ]
    },
    {
      "cell_type": "code",
      "source": [
        "data['Membership'].unique()"
      ],
      "metadata": {
        "execution": {
          "iopub.status.busy": "2021-12-29T03:41:20.441695Z",
          "iopub.execute_input": "2021-12-29T03:41:20.442038Z",
          "iopub.status.idle": "2021-12-29T03:41:20.451461Z",
          "shell.execute_reply.started": "2021-12-29T03:41:20.442004Z",
          "shell.execute_reply": "2021-12-29T03:41:20.450117Z"
        },
        "trusted": true,
        "colab": {
          "base_uri": "https://localhost:8080/"
        },
        "id": "mUkxNoDg9nTQ",
        "outputId": "09f2efdb-42ca-4c10-ff39-e2e697a7b2c0"
      },
      "execution_count": 25,
      "outputs": [
        {
          "output_type": "execute_result",
          "data": {
            "text/plain": [
              "array(['Yes', 'No'], dtype=object)"
            ]
          },
          "metadata": {},
          "execution_count": 25
        }
      ]
    },
    {
      "cell_type": "code",
      "source": [
        "data['Spending'].unique()"
      ],
      "metadata": {
        "execution": {
          "iopub.status.busy": "2021-12-29T03:41:27.79592Z",
          "iopub.execute_input": "2021-12-29T03:41:27.796275Z",
          "iopub.status.idle": "2021-12-29T03:41:27.803786Z",
          "shell.execute_reply.started": "2021-12-29T03:41:27.796243Z",
          "shell.execute_reply": "2021-12-29T03:41:27.803171Z"
        },
        "trusted": true,
        "colab": {
          "base_uri": "https://localhost:8080/"
        },
        "id": "-B6DPJo59nTQ",
        "outputId": "9c5e64f4-624e-4d25-a039-0de1b3f0ba3c"
      },
      "execution_count": 26,
      "outputs": [
        {
          "output_type": "execute_result",
          "data": {
            "text/plain": [
              "array(['Less than RM20', 'Around RM20 - RM40', 'More than RM40', 'Zero'],\n",
              "      dtype=object)"
            ]
          },
          "metadata": {},
          "execution_count": 26
        }
      ]
    },
    {
      "cell_type": "code",
      "source": [
        "data[\"Gender\"].replace({\"Female\": 1, \"Male\": 0}, inplace=True)\n",
        "data[\"Age\"].replace({\"Below 20\": 0, \"From 20 to 29\": 1, \"From 30 to 39\": 2, \"40 and above\": 3}, inplace=True)\n",
        "data[\"Work_Status\"].replace({\"Student\": 0, \"Employed\": 1, \"Self-employed\": 2, \"Housewife\": 3}, inplace=True)\n",
        "data[\"Annual_Income\"].replace({\"Less than RM25,000\": 0, \"RM25,000 - RM50,000\": 1, \"RM50,000 - RM100,000\": 2, \"RM100,000 - RM150,000\": 3, \"More than RM150,000\": 4}, inplace=True)\n",
        "data[\"Visit\"].replace({\"Never\": 0, \"Rarely\": 1, \"Monthly\": 2, \"Weekly\": 3, \"Daily\": 4}, inplace=True)\n",
        "data[\"Visit_Type\"].replace({\"Never buy\": 0, \"Take away\": 1, \"Drive-thru\": 2, \"Dine in\": 3}, inplace=True)\n",
        "data[\"Visit_Duration\"].replace({\"Below 30 minutes\": 0, \"Between 30 minutes to 1 hour\": 1, \"Between 1 hour to 2 hours\": 2, \"Between 2 hours to 3 hours\": 3, \"More than 3 hours\": 4}, inplace=True)\n",
        "data[\"Distance\"].replace({\"within 1km\": 0, \"1km - 3km\": 1, \"more than 3km\": 2}, inplace=True)\n",
        "data[\"Membership\"].replace({\"No\": 0, \"Yes\": 1}, inplace=True)\n",
        "data[\"Spending\"].replace({\"Zero\": 0, \"Less than RM20\": 1, \"Around RM20 - RM40\": 2, \"More than RM40\": 3}, inplace=True)"
      ],
      "metadata": {
        "execution": {
          "iopub.status.busy": "2021-12-29T03:42:11.912957Z",
          "iopub.execute_input": "2021-12-29T03:42:11.913263Z",
          "iopub.status.idle": "2021-12-29T03:42:11.938282Z",
          "shell.execute_reply.started": "2021-12-29T03:42:11.913232Z",
          "shell.execute_reply": "2021-12-29T03:42:11.93719Z"
        },
        "trusted": true,
        "id": "DLK5E0qE9nTQ"
      },
      "execution_count": 27,
      "outputs": []
    },
    {
      "cell_type": "markdown",
      "source": [
        "Encode the target variable"
      ],
      "metadata": {
        "id": "SfcctHQmQfYl"
      }
    },
    {
      "cell_type": "code",
      "source": [
        "data[\"Loyality\"].replace({\"Yes\": 1, \"No\": 0}, inplace=True)"
      ],
      "metadata": {
        "id": "muAKW2BdQibJ"
      },
      "execution_count": 33,
      "outputs": []
    },
    {
      "cell_type": "code",
      "source": [
        "data.dtypes"
      ],
      "metadata": {
        "execution": {
          "iopub.status.busy": "2021-12-29T03:42:15.384007Z",
          "iopub.execute_input": "2021-12-29T03:42:15.384308Z",
          "iopub.status.idle": "2021-12-29T03:42:15.39592Z",
          "shell.execute_reply.started": "2021-12-29T03:42:15.384276Z",
          "shell.execute_reply": "2021-12-29T03:42:15.395098Z"
        },
        "trusted": true,
        "colab": {
          "base_uri": "https://localhost:8080/"
        },
        "id": "CZ-LKCTb9nTR",
        "outputId": "6f6c8a48-fe3b-44c5-9f83-df71e1dc882c"
      },
      "execution_count": 34,
      "outputs": [
        {
          "output_type": "execute_result",
          "data": {
            "text/plain": [
              "Gender             int64\n",
              "Age                int64\n",
              "Work_Status        int64\n",
              "Annual_Income      int64\n",
              "Visit              int64\n",
              "Visit_Type         int64\n",
              "Visit_Duration     int64\n",
              "Distance           int64\n",
              "Membership         int64\n",
              "Spending           int64\n",
              "Product_Rating     int64\n",
              "Price_Rating       int64\n",
              "Promo_Rating       int64\n",
              "Ambiance_Rating    int64\n",
              "Wifi_Rating        int64\n",
              "Service_Rating     int64\n",
              "Hangout_Rating     int64\n",
              "Loyality           int64\n",
              "dtype: object"
            ]
          },
          "metadata": {},
          "execution_count": 34
        }
      ]
    },
    {
      "cell_type": "code",
      "source": [
        "data.head()"
      ],
      "metadata": {
        "execution": {
          "iopub.status.busy": "2021-12-29T03:42:18.339549Z",
          "iopub.execute_input": "2021-12-29T03:42:18.339846Z",
          "iopub.status.idle": "2021-12-29T03:42:18.357801Z",
          "shell.execute_reply.started": "2021-12-29T03:42:18.339815Z",
          "shell.execute_reply": "2021-12-29T03:42:18.356907Z"
        },
        "trusted": true,
        "colab": {
          "base_uri": "https://localhost:8080/",
          "height": 270
        },
        "id": "wQ6xdXLH9nTR",
        "outputId": "08b74a54-d3ca-4823-da0f-aa13254c9aa8"
      },
      "execution_count": 35,
      "outputs": [
        {
          "output_type": "execute_result",
          "data": {
            "text/plain": [
              "   Gender  Age  Work_Status  Annual_Income  Visit  Visit_Type  Visit_Duration  \\\n",
              "0       1    1            0              0      1           3               1   \n",
              "1       1    1            0              0      1           1               0   \n",
              "2       0    1            1              0      2           3               1   \n",
              "3       1    1            0              0      1           1               0   \n",
              "4       0    1            0              0      2           1               1   \n",
              "\n",
              "   Distance  Membership  Spending  Product_Rating  Price_Rating  Promo_Rating  \\\n",
              "0         0           1         1               4             3             5   \n",
              "1         1           1         1               4             3             4   \n",
              "2         2           1         1               4             3             4   \n",
              "3         2           0         1               2             1             4   \n",
              "4         1           0         2               3             3             4   \n",
              "\n",
              "   Ambiance_Rating  Wifi_Rating  Service_Rating  Hangout_Rating  Loyality  \n",
              "0                5            4               4               3         1  \n",
              "1                4            4               5               2         1  \n",
              "2                4            4               4               3         1  \n",
              "3                3            3               3               3         0  \n",
              "4                2            2               3               3         1  "
            ],
            "text/html": [
              "\n",
              "\n",
              "  <div id=\"df-a8ceb54f-e37b-4fd9-8112-b3fea678038d\">\n",
              "    <div class=\"colab-df-container\">\n",
              "      <div>\n",
              "<style scoped>\n",
              "    .dataframe tbody tr th:only-of-type {\n",
              "        vertical-align: middle;\n",
              "    }\n",
              "\n",
              "    .dataframe tbody tr th {\n",
              "        vertical-align: top;\n",
              "    }\n",
              "\n",
              "    .dataframe thead th {\n",
              "        text-align: right;\n",
              "    }\n",
              "</style>\n",
              "<table border=\"1\" class=\"dataframe\">\n",
              "  <thead>\n",
              "    <tr style=\"text-align: right;\">\n",
              "      <th></th>\n",
              "      <th>Gender</th>\n",
              "      <th>Age</th>\n",
              "      <th>Work_Status</th>\n",
              "      <th>Annual_Income</th>\n",
              "      <th>Visit</th>\n",
              "      <th>Visit_Type</th>\n",
              "      <th>Visit_Duration</th>\n",
              "      <th>Distance</th>\n",
              "      <th>Membership</th>\n",
              "      <th>Spending</th>\n",
              "      <th>Product_Rating</th>\n",
              "      <th>Price_Rating</th>\n",
              "      <th>Promo_Rating</th>\n",
              "      <th>Ambiance_Rating</th>\n",
              "      <th>Wifi_Rating</th>\n",
              "      <th>Service_Rating</th>\n",
              "      <th>Hangout_Rating</th>\n",
              "      <th>Loyality</th>\n",
              "    </tr>\n",
              "  </thead>\n",
              "  <tbody>\n",
              "    <tr>\n",
              "      <th>0</th>\n",
              "      <td>1</td>\n",
              "      <td>1</td>\n",
              "      <td>0</td>\n",
              "      <td>0</td>\n",
              "      <td>1</td>\n",
              "      <td>3</td>\n",
              "      <td>1</td>\n",
              "      <td>0</td>\n",
              "      <td>1</td>\n",
              "      <td>1</td>\n",
              "      <td>4</td>\n",
              "      <td>3</td>\n",
              "      <td>5</td>\n",
              "      <td>5</td>\n",
              "      <td>4</td>\n",
              "      <td>4</td>\n",
              "      <td>3</td>\n",
              "      <td>1</td>\n",
              "    </tr>\n",
              "    <tr>\n",
              "      <th>1</th>\n",
              "      <td>1</td>\n",
              "      <td>1</td>\n",
              "      <td>0</td>\n",
              "      <td>0</td>\n",
              "      <td>1</td>\n",
              "      <td>1</td>\n",
              "      <td>0</td>\n",
              "      <td>1</td>\n",
              "      <td>1</td>\n",
              "      <td>1</td>\n",
              "      <td>4</td>\n",
              "      <td>3</td>\n",
              "      <td>4</td>\n",
              "      <td>4</td>\n",
              "      <td>4</td>\n",
              "      <td>5</td>\n",
              "      <td>2</td>\n",
              "      <td>1</td>\n",
              "    </tr>\n",
              "    <tr>\n",
              "      <th>2</th>\n",
              "      <td>0</td>\n",
              "      <td>1</td>\n",
              "      <td>1</td>\n",
              "      <td>0</td>\n",
              "      <td>2</td>\n",
              "      <td>3</td>\n",
              "      <td>1</td>\n",
              "      <td>2</td>\n",
              "      <td>1</td>\n",
              "      <td>1</td>\n",
              "      <td>4</td>\n",
              "      <td>3</td>\n",
              "      <td>4</td>\n",
              "      <td>4</td>\n",
              "      <td>4</td>\n",
              "      <td>4</td>\n",
              "      <td>3</td>\n",
              "      <td>1</td>\n",
              "    </tr>\n",
              "    <tr>\n",
              "      <th>3</th>\n",
              "      <td>1</td>\n",
              "      <td>1</td>\n",
              "      <td>0</td>\n",
              "      <td>0</td>\n",
              "      <td>1</td>\n",
              "      <td>1</td>\n",
              "      <td>0</td>\n",
              "      <td>2</td>\n",
              "      <td>0</td>\n",
              "      <td>1</td>\n",
              "      <td>2</td>\n",
              "      <td>1</td>\n",
              "      <td>4</td>\n",
              "      <td>3</td>\n",
              "      <td>3</td>\n",
              "      <td>3</td>\n",
              "      <td>3</td>\n",
              "      <td>0</td>\n",
              "    </tr>\n",
              "    <tr>\n",
              "      <th>4</th>\n",
              "      <td>0</td>\n",
              "      <td>1</td>\n",
              "      <td>0</td>\n",
              "      <td>0</td>\n",
              "      <td>2</td>\n",
              "      <td>1</td>\n",
              "      <td>1</td>\n",
              "      <td>1</td>\n",
              "      <td>0</td>\n",
              "      <td>2</td>\n",
              "      <td>3</td>\n",
              "      <td>3</td>\n",
              "      <td>4</td>\n",
              "      <td>2</td>\n",
              "      <td>2</td>\n",
              "      <td>3</td>\n",
              "      <td>3</td>\n",
              "      <td>1</td>\n",
              "    </tr>\n",
              "  </tbody>\n",
              "</table>\n",
              "</div>\n",
              "      <button class=\"colab-df-convert\" onclick=\"convertToInteractive('df-a8ceb54f-e37b-4fd9-8112-b3fea678038d')\"\n",
              "              title=\"Convert this dataframe to an interactive table.\"\n",
              "              style=\"display:none;\">\n",
              "\n",
              "  <svg xmlns=\"http://www.w3.org/2000/svg\" height=\"24px\"viewBox=\"0 0 24 24\"\n",
              "       width=\"24px\">\n",
              "    <path d=\"M0 0h24v24H0V0z\" fill=\"none\"/>\n",
              "    <path d=\"M18.56 5.44l.94 2.06.94-2.06 2.06-.94-2.06-.94-.94-2.06-.94 2.06-2.06.94zm-11 1L8.5 8.5l.94-2.06 2.06-.94-2.06-.94L8.5 2.5l-.94 2.06-2.06.94zm10 10l.94 2.06.94-2.06 2.06-.94-2.06-.94-.94-2.06-.94 2.06-2.06.94z\"/><path d=\"M17.41 7.96l-1.37-1.37c-.4-.4-.92-.59-1.43-.59-.52 0-1.04.2-1.43.59L10.3 9.45l-7.72 7.72c-.78.78-.78 2.05 0 2.83L4 21.41c.39.39.9.59 1.41.59.51 0 1.02-.2 1.41-.59l7.78-7.78 2.81-2.81c.8-.78.8-2.07 0-2.86zM5.41 20L4 18.59l7.72-7.72 1.47 1.35L5.41 20z\"/>\n",
              "  </svg>\n",
              "      </button>\n",
              "\n",
              "\n",
              "\n",
              "    <div id=\"df-636e366e-053e-440a-b354-c7cab5a6cc44\">\n",
              "      <button class=\"colab-df-quickchart\" onclick=\"quickchart('df-636e366e-053e-440a-b354-c7cab5a6cc44')\"\n",
              "              title=\"Suggest charts.\"\n",
              "              style=\"display:none;\">\n",
              "\n",
              "<svg xmlns=\"http://www.w3.org/2000/svg\" height=\"24px\"viewBox=\"0 0 24 24\"\n",
              "     width=\"24px\">\n",
              "    <g>\n",
              "        <path d=\"M19 3H5c-1.1 0-2 .9-2 2v14c0 1.1.9 2 2 2h14c1.1 0 2-.9 2-2V5c0-1.1-.9-2-2-2zM9 17H7v-7h2v7zm4 0h-2V7h2v10zm4 0h-2v-4h2v4z\"/>\n",
              "    </g>\n",
              "</svg>\n",
              "      </button>\n",
              "    </div>\n",
              "\n",
              "<style>\n",
              "  .colab-df-quickchart {\n",
              "    background-color: #E8F0FE;\n",
              "    border: none;\n",
              "    border-radius: 50%;\n",
              "    cursor: pointer;\n",
              "    display: none;\n",
              "    fill: #1967D2;\n",
              "    height: 32px;\n",
              "    padding: 0 0 0 0;\n",
              "    width: 32px;\n",
              "  }\n",
              "\n",
              "  .colab-df-quickchart:hover {\n",
              "    background-color: #E2EBFA;\n",
              "    box-shadow: 0px 1px 2px rgba(60, 64, 67, 0.3), 0px 1px 3px 1px rgba(60, 64, 67, 0.15);\n",
              "    fill: #174EA6;\n",
              "  }\n",
              "\n",
              "  [theme=dark] .colab-df-quickchart {\n",
              "    background-color: #3B4455;\n",
              "    fill: #D2E3FC;\n",
              "  }\n",
              "\n",
              "  [theme=dark] .colab-df-quickchart:hover {\n",
              "    background-color: #434B5C;\n",
              "    box-shadow: 0px 1px 3px 1px rgba(0, 0, 0, 0.15);\n",
              "    filter: drop-shadow(0px 1px 2px rgba(0, 0, 0, 0.3));\n",
              "    fill: #FFFFFF;\n",
              "  }\n",
              "</style>\n",
              "\n",
              "    <script>\n",
              "      async function quickchart(key) {\n",
              "        const containerElement = document.querySelector('#' + key);\n",
              "        const charts = await google.colab.kernel.invokeFunction(\n",
              "            'suggestCharts', [key], {});\n",
              "      }\n",
              "    </script>\n",
              "\n",
              "      <script>\n",
              "\n",
              "function displayQuickchartButton(domScope) {\n",
              "  let quickchartButtonEl =\n",
              "    domScope.querySelector('#df-636e366e-053e-440a-b354-c7cab5a6cc44 button.colab-df-quickchart');\n",
              "  quickchartButtonEl.style.display =\n",
              "    google.colab.kernel.accessAllowed ? 'block' : 'none';\n",
              "}\n",
              "\n",
              "        displayQuickchartButton(document);\n",
              "      </script>\n",
              "      <style>\n",
              "    .colab-df-container {\n",
              "      display:flex;\n",
              "      flex-wrap:wrap;\n",
              "      gap: 12px;\n",
              "    }\n",
              "\n",
              "    .colab-df-convert {\n",
              "      background-color: #E8F0FE;\n",
              "      border: none;\n",
              "      border-radius: 50%;\n",
              "      cursor: pointer;\n",
              "      display: none;\n",
              "      fill: #1967D2;\n",
              "      height: 32px;\n",
              "      padding: 0 0 0 0;\n",
              "      width: 32px;\n",
              "    }\n",
              "\n",
              "    .colab-df-convert:hover {\n",
              "      background-color: #E2EBFA;\n",
              "      box-shadow: 0px 1px 2px rgba(60, 64, 67, 0.3), 0px 1px 3px 1px rgba(60, 64, 67, 0.15);\n",
              "      fill: #174EA6;\n",
              "    }\n",
              "\n",
              "    [theme=dark] .colab-df-convert {\n",
              "      background-color: #3B4455;\n",
              "      fill: #D2E3FC;\n",
              "    }\n",
              "\n",
              "    [theme=dark] .colab-df-convert:hover {\n",
              "      background-color: #434B5C;\n",
              "      box-shadow: 0px 1px 3px 1px rgba(0, 0, 0, 0.15);\n",
              "      filter: drop-shadow(0px 1px 2px rgba(0, 0, 0, 0.3));\n",
              "      fill: #FFFFFF;\n",
              "    }\n",
              "  </style>\n",
              "\n",
              "      <script>\n",
              "        const buttonEl =\n",
              "          document.querySelector('#df-a8ceb54f-e37b-4fd9-8112-b3fea678038d button.colab-df-convert');\n",
              "        buttonEl.style.display =\n",
              "          google.colab.kernel.accessAllowed ? 'block' : 'none';\n",
              "\n",
              "        async function convertToInteractive(key) {\n",
              "          const element = document.querySelector('#df-a8ceb54f-e37b-4fd9-8112-b3fea678038d');\n",
              "          const dataTable =\n",
              "            await google.colab.kernel.invokeFunction('convertToInteractive',\n",
              "                                                     [key], {});\n",
              "          if (!dataTable) return;\n",
              "\n",
              "          const docLinkHtml = 'Like what you see? Visit the ' +\n",
              "            '<a target=\"_blank\" href=https://colab.research.google.com/notebooks/data_table.ipynb>data table notebook</a>'\n",
              "            + ' to learn more about interactive tables.';\n",
              "          element.innerHTML = '';\n",
              "          dataTable['output_type'] = 'display_data';\n",
              "          await google.colab.output.renderOutput(dataTable, element);\n",
              "          const docLink = document.createElement('div');\n",
              "          docLink.innerHTML = docLinkHtml;\n",
              "          element.appendChild(docLink);\n",
              "        }\n",
              "      </script>\n",
              "    </div>\n",
              "  </div>\n"
            ]
          },
          "metadata": {},
          "execution_count": 35
        }
      ]
    },
    {
      "cell_type": "markdown",
      "source": [
        "\n",
        "\n",
        "---\n",
        "\n",
        "\n",
        "# **Modelling**\n"
      ],
      "metadata": {
        "id": "jnkiJiBc9nTR"
      }
    },
    {
      "cell_type": "markdown",
      "source": [
        "\n",
        "At this stage a model will be formed from the training data.\n",
        "\n"
      ],
      "metadata": {
        "id": "QVu188QJ9nTR"
      }
    },
    {
      "cell_type": "code",
      "source": [
        "# Retrieve dataset\n",
        "datasb = data\n",
        "# Split in X and y\n",
        "X, y = datasb.iloc[:,:-1], datasb.iloc[:,-1]\n",
        "\n",
        "# The dataset is divided into two, for training data and testing data\n",
        "# Data Training : Data Testing - 70% : 30%\n",
        "X_train, X_test, y_train, y_test= train_test_split(X, y, test_size=0.3, random_state=123)"
      ],
      "metadata": {
        "execution": {
          "iopub.status.busy": "2021-12-29T03:43:03.130142Z",
          "iopub.execute_input": "2021-12-29T03:43:03.130445Z",
          "iopub.status.idle": "2021-12-29T03:43:03.141474Z",
          "shell.execute_reply.started": "2021-12-29T03:43:03.130415Z",
          "shell.execute_reply": "2021-12-29T03:43:03.140599Z"
        },
        "trusted": true,
        "id": "EsotSsTP9nTR"
      },
      "execution_count": 36,
      "outputs": []
    },
    {
      "cell_type": "code",
      "source": [
        "# Create an XGBoost Classifier model\n",
        "XGBoost_classifier = xgb.XGBClassifier(objective='binary:logistic', n_estimators=1000, seed=123, learning_rate=0.1, max_depth=5, colsample_bytree=1, subsample=1)"
      ],
      "metadata": {
        "execution": {
          "iopub.status.busy": "2021-12-29T03:43:13.254665Z",
          "iopub.execute_input": "2021-12-29T03:43:13.254992Z",
          "iopub.status.idle": "2021-12-29T03:43:13.260627Z",
          "shell.execute_reply.started": "2021-12-29T03:43:13.254956Z",
          "shell.execute_reply": "2021-12-29T03:43:13.26004Z"
        },
        "trusted": true,
        "id": "llPT9M5V9nTg"
      },
      "execution_count": 39,
      "outputs": []
    },
    {
      "cell_type": "markdown",
      "source": [
        "XGBClassifier Parameters:\n",
        "\n",
        "* Objective - What is your goal for this particular problem, here we have a binary classification problem of 2 class hence use binary:logistic.\n",
        "* n_estimators - The number of trees we use for the classification problem.\n",
        "* learning_rate - How big a step to take.\n",
        "* max_depth - Maximum depth of each tree.\n",
        "* colsample_bytree - What percentage of features each tree has.\n",
        "* subsample - What percentage of data is used by each tree."
      ],
      "metadata": {
        "id": "uAZ6oCGF9nTg"
      }
    },
    {
      "cell_type": "code",
      "source": [
        "# Fitting model XGBoost\n",
        "XGBoost_classifier.fit(X_train,y_train)"
      ],
      "metadata": {
        "execution": {
          "iopub.status.busy": "2021-12-29T03:44:58.475251Z",
          "iopub.execute_input": "2021-12-29T03:44:58.475736Z",
          "iopub.status.idle": "2021-12-29T03:45:00.87491Z",
          "shell.execute_reply.started": "2021-12-29T03:44:58.47569Z",
          "shell.execute_reply": "2021-12-29T03:45:00.874032Z"
        },
        "trusted": true,
        "colab": {
          "base_uri": "https://localhost:8080/",
          "height": 247
        },
        "id": "zIst_Rq89nTg",
        "outputId": "29f628b7-5b79-48d0-a301-3ceb27d1448b"
      },
      "execution_count": 40,
      "outputs": [
        {
          "output_type": "execute_result",
          "data": {
            "text/plain": [
              "XGBClassifier(base_score=None, booster=None, callbacks=None,\n",
              "              colsample_bylevel=None, colsample_bynode=None, colsample_bytree=1,\n",
              "              early_stopping_rounds=None, enable_categorical=False,\n",
              "              eval_metric=None, feature_types=None, gamma=None, gpu_id=None,\n",
              "              grow_policy=None, importance_type=None,\n",
              "              interaction_constraints=None, learning_rate=0.1, max_bin=None,\n",
              "              max_cat_threshold=None, max_cat_to_onehot=None,\n",
              "              max_delta_step=None, max_depth=5, max_leaves=None,\n",
              "              min_child_weight=None, missing=nan, monotone_constraints=None,\n",
              "              n_estimators=1000, n_jobs=None, num_parallel_tree=None,\n",
              "              predictor=None, random_state=None, ...)"
            ],
            "text/html": [
              "<style>#sk-container-id-2 {color: black;background-color: white;}#sk-container-id-2 pre{padding: 0;}#sk-container-id-2 div.sk-toggleable {background-color: white;}#sk-container-id-2 label.sk-toggleable__label {cursor: pointer;display: block;width: 100%;margin-bottom: 0;padding: 0.3em;box-sizing: border-box;text-align: center;}#sk-container-id-2 label.sk-toggleable__label-arrow:before {content: \"▸\";float: left;margin-right: 0.25em;color: #696969;}#sk-container-id-2 label.sk-toggleable__label-arrow:hover:before {color: black;}#sk-container-id-2 div.sk-estimator:hover label.sk-toggleable__label-arrow:before {color: black;}#sk-container-id-2 div.sk-toggleable__content {max-height: 0;max-width: 0;overflow: hidden;text-align: left;background-color: #f0f8ff;}#sk-container-id-2 div.sk-toggleable__content pre {margin: 0.2em;color: black;border-radius: 0.25em;background-color: #f0f8ff;}#sk-container-id-2 input.sk-toggleable__control:checked~div.sk-toggleable__content {max-height: 200px;max-width: 100%;overflow: auto;}#sk-container-id-2 input.sk-toggleable__control:checked~label.sk-toggleable__label-arrow:before {content: \"▾\";}#sk-container-id-2 div.sk-estimator input.sk-toggleable__control:checked~label.sk-toggleable__label {background-color: #d4ebff;}#sk-container-id-2 div.sk-label input.sk-toggleable__control:checked~label.sk-toggleable__label {background-color: #d4ebff;}#sk-container-id-2 input.sk-hidden--visually {border: 0;clip: rect(1px 1px 1px 1px);clip: rect(1px, 1px, 1px, 1px);height: 1px;margin: -1px;overflow: hidden;padding: 0;position: absolute;width: 1px;}#sk-container-id-2 div.sk-estimator {font-family: monospace;background-color: #f0f8ff;border: 1px dotted black;border-radius: 0.25em;box-sizing: border-box;margin-bottom: 0.5em;}#sk-container-id-2 div.sk-estimator:hover {background-color: #d4ebff;}#sk-container-id-2 div.sk-parallel-item::after {content: \"\";width: 100%;border-bottom: 1px solid gray;flex-grow: 1;}#sk-container-id-2 div.sk-label:hover label.sk-toggleable__label {background-color: #d4ebff;}#sk-container-id-2 div.sk-serial::before {content: \"\";position: absolute;border-left: 1px solid gray;box-sizing: border-box;top: 0;bottom: 0;left: 50%;z-index: 0;}#sk-container-id-2 div.sk-serial {display: flex;flex-direction: column;align-items: center;background-color: white;padding-right: 0.2em;padding-left: 0.2em;position: relative;}#sk-container-id-2 div.sk-item {position: relative;z-index: 1;}#sk-container-id-2 div.sk-parallel {display: flex;align-items: stretch;justify-content: center;background-color: white;position: relative;}#sk-container-id-2 div.sk-item::before, #sk-container-id-2 div.sk-parallel-item::before {content: \"\";position: absolute;border-left: 1px solid gray;box-sizing: border-box;top: 0;bottom: 0;left: 50%;z-index: -1;}#sk-container-id-2 div.sk-parallel-item {display: flex;flex-direction: column;z-index: 1;position: relative;background-color: white;}#sk-container-id-2 div.sk-parallel-item:first-child::after {align-self: flex-end;width: 50%;}#sk-container-id-2 div.sk-parallel-item:last-child::after {align-self: flex-start;width: 50%;}#sk-container-id-2 div.sk-parallel-item:only-child::after {width: 0;}#sk-container-id-2 div.sk-dashed-wrapped {border: 1px dashed gray;margin: 0 0.4em 0.5em 0.4em;box-sizing: border-box;padding-bottom: 0.4em;background-color: white;}#sk-container-id-2 div.sk-label label {font-family: monospace;font-weight: bold;display: inline-block;line-height: 1.2em;}#sk-container-id-2 div.sk-label-container {text-align: center;}#sk-container-id-2 div.sk-container {/* jupyter's `normalize.less` sets `[hidden] { display: none; }` but bootstrap.min.css set `[hidden] { display: none !important; }` so we also need the `!important` here to be able to override the default hidden behavior on the sphinx rendered scikit-learn.org. See: https://github.com/scikit-learn/scikit-learn/issues/21755 */display: inline-block !important;position: relative;}#sk-container-id-2 div.sk-text-repr-fallback {display: none;}</style><div id=\"sk-container-id-2\" class=\"sk-top-container\"><div class=\"sk-text-repr-fallback\"><pre>XGBClassifier(base_score=None, booster=None, callbacks=None,\n",
              "              colsample_bylevel=None, colsample_bynode=None, colsample_bytree=1,\n",
              "              early_stopping_rounds=None, enable_categorical=False,\n",
              "              eval_metric=None, feature_types=None, gamma=None, gpu_id=None,\n",
              "              grow_policy=None, importance_type=None,\n",
              "              interaction_constraints=None, learning_rate=0.1, max_bin=None,\n",
              "              max_cat_threshold=None, max_cat_to_onehot=None,\n",
              "              max_delta_step=None, max_depth=5, max_leaves=None,\n",
              "              min_child_weight=None, missing=nan, monotone_constraints=None,\n",
              "              n_estimators=1000, n_jobs=None, num_parallel_tree=None,\n",
              "              predictor=None, random_state=None, ...)</pre><b>In a Jupyter environment, please rerun this cell to show the HTML representation or trust the notebook. <br />On GitHub, the HTML representation is unable to render, please try loading this page with nbviewer.org.</b></div><div class=\"sk-container\" hidden><div class=\"sk-item\"><div class=\"sk-estimator sk-toggleable\"><input class=\"sk-toggleable__control sk-hidden--visually\" id=\"sk-estimator-id-2\" type=\"checkbox\" checked><label for=\"sk-estimator-id-2\" class=\"sk-toggleable__label sk-toggleable__label-arrow\">XGBClassifier</label><div class=\"sk-toggleable__content\"><pre>XGBClassifier(base_score=None, booster=None, callbacks=None,\n",
              "              colsample_bylevel=None, colsample_bynode=None, colsample_bytree=1,\n",
              "              early_stopping_rounds=None, enable_categorical=False,\n",
              "              eval_metric=None, feature_types=None, gamma=None, gpu_id=None,\n",
              "              grow_policy=None, importance_type=None,\n",
              "              interaction_constraints=None, learning_rate=0.1, max_bin=None,\n",
              "              max_cat_threshold=None, max_cat_to_onehot=None,\n",
              "              max_delta_step=None, max_depth=5, max_leaves=None,\n",
              "              min_child_weight=None, missing=nan, monotone_constraints=None,\n",
              "              n_estimators=1000, n_jobs=None, num_parallel_tree=None,\n",
              "              predictor=None, random_state=None, ...)</pre></div></div></div></div></div>"
            ]
          },
          "metadata": {},
          "execution_count": 40
        }
      ]
    },
    {
      "cell_type": "code",
      "source": [
        "# Prediction of testing data\n",
        "predictions = XGBoost_classifier.predict(X_test)"
      ],
      "metadata": {
        "execution": {
          "iopub.status.busy": "2021-12-29T03:45:09.296281Z",
          "iopub.execute_input": "2021-12-29T03:45:09.296882Z",
          "iopub.status.idle": "2021-12-29T03:45:09.308119Z",
          "shell.execute_reply.started": "2021-12-29T03:45:09.296834Z",
          "shell.execute_reply": "2021-12-29T03:45:09.307282Z"
        },
        "trusted": true,
        "id": "9CnBxjK89nTg"
      },
      "execution_count": 41,
      "outputs": []
    },
    {
      "cell_type": "code",
      "source": [
        "# View accuracy scores\n",
        "accuracy = float(np.sum(predictions==y_test))/y_test.shape[0]\n",
        "print(\"Accuracy: %f\" % (accuracy))"
      ],
      "metadata": {
        "execution": {
          "iopub.status.busy": "2021-12-29T03:45:13.439826Z",
          "iopub.execute_input": "2021-12-29T03:45:13.440136Z",
          "iopub.status.idle": "2021-12-29T03:45:13.447951Z",
          "shell.execute_reply.started": "2021-12-29T03:45:13.440105Z",
          "shell.execute_reply": "2021-12-29T03:45:13.446888Z"
        },
        "trusted": true,
        "colab": {
          "base_uri": "https://localhost:8080/"
        },
        "id": "08Aq1F1u9nTg",
        "outputId": "4dae28e1-16f7-4c11-b9c5-2731d775db2c"
      },
      "execution_count": 42,
      "outputs": [
        {
          "output_type": "stream",
          "name": "stdout",
          "text": [
            "Accuracy: 0.891892\n"
          ]
        }
      ]
    },
    {
      "cell_type": "markdown",
      "source": [
        "We got 89% accuracy, not bad!"
      ],
      "metadata": {
        "id": "Q9VwkiynVbod"
      }
    },
    {
      "cell_type": "code",
      "source": [
        "from sklearn.metrics import confusion_matrix, ConfusionMatrixDisplay\n",
        "\n",
        "cm = confusion_matrix(y_test, predictions, labels=XGBoost_classifier.classes_)\n",
        "disp = ConfusionMatrixDisplay(confusion_matrix=cm, display_labels=XGBoost_classifier.classes_)\n",
        "\n",
        "disp.plot()\n",
        "plt.show()"
      ],
      "metadata": {
        "execution": {
          "iopub.status.busy": "2021-12-29T03:45:16.600457Z",
          "iopub.execute_input": "2021-12-29T03:45:16.601044Z",
          "iopub.status.idle": "2021-12-29T03:45:16.887851Z",
          "shell.execute_reply.started": "2021-12-29T03:45:16.601009Z",
          "shell.execute_reply": "2021-12-29T03:45:16.886653Z"
        },
        "trusted": true,
        "colab": {
          "base_uri": "https://localhost:8080/",
          "height": 449
        },
        "id": "85e3an8p9nTg",
        "outputId": "c93d2baa-f2a5-4b5e-96e5-7e40376bb043"
      },
      "execution_count": 58,
      "outputs": [
        {
          "output_type": "display_data",
          "data": {
            "text/plain": [
              "<Figure size 640x480 with 2 Axes>"
            ],
            "image/png": "[encoded data removed]"
          },
          "metadata": {}
        }
      ]
    },
    {
      "cell_type": "code",
      "source": [
        "from sklearn import metrics\n",
        "\n",
        "fpr, tpr, thresholds = metrics.roc_curve(y_test, predictions)\n",
        "roc_auc = metrics.auc(fpr, tpr)\n",
        "display = metrics.RocCurveDisplay(fpr=fpr, tpr=tpr, roc_auc=roc_auc,\n",
        "                                  estimator_name='XGBoost classifier')\n",
        "display.plot()\n",
        "\n",
        "plt.show()"
      ],
      "metadata": {
        "execution": {
          "iopub.status.busy": "2021-12-29T03:45:19.910298Z",
          "iopub.execute_input": "2021-12-29T03:45:19.910626Z",
          "iopub.status.idle": "2021-12-29T03:45:20.148671Z",
          "shell.execute_reply.started": "2021-12-29T03:45:19.910593Z",
          "shell.execute_reply": "2021-12-29T03:45:20.147927Z"
        },
        "trusted": true,
        "colab": {
          "base_uri": "https://localhost:8080/",
          "height": 449
        },
        "id": "soPNH73c9nTg",
        "outputId": "d2175a01-4012-44bc-b674-530b8005be96"
      },
      "execution_count": 60,
      "outputs": [
        {
          "output_type": "display_data",
          "data": {
            "text/plain": [
              "<Figure size 640x480 with 1 Axes>"
            ],
            "image/png": "[encoded data removed]"
          },
          "metadata": {}
        }
      ]
    },
    {
      "cell_type": "markdown",
      "source": [
        "ROC Curve or Receiver Operating Characteristic Curve, is a graph that shows the performance of the classification model across all classification thresholds. This curve plots two parameters: True Positive Rate and False Positive Rate."
      ],
      "metadata": {
        "id": "7KZ21Ymp9nTg"
      }
    },
    {
      "cell_type": "code",
      "source": [
        "# View the most important features in the classification\n",
        "xgb.plot_importance(XGBoost_classifier)\n",
        "plt.show()"
      ],
      "metadata": {
        "execution": {
          "iopub.status.busy": "2021-12-29T03:45:31.035518Z",
          "iopub.execute_input": "2021-12-29T03:45:31.035926Z",
          "iopub.status.idle": "2021-12-29T03:45:31.365186Z",
          "shell.execute_reply.started": "2021-12-29T03:45:31.035895Z",
          "shell.execute_reply": "2021-12-29T03:45:31.364283Z"
        },
        "trusted": true,
        "colab": {
          "base_uri": "https://localhost:8080/",
          "height": 472
        },
        "id": "XkfRcEz29nTg",
        "outputId": "3a5af6ff-fb45-4acc-e4a1-78c933c58500"
      },
      "execution_count": 61,
      "outputs": [
        {
          "output_type": "display_data",
          "data": {
            "text/plain": [
              "<Figure size 640x480 with 1 Axes>"
            ],
            "image/png": "[encoded data removed]"
          },
          "metadata": {}
        }
      ]
    },
    {
      "cell_type": "markdown",
      "source": [
        "It can be seen here, Price_Rating is the most important attribute in predicting customer loyalty."
      ],
      "metadata": {
        "id": "nmeAxmQL9nTg"
      }
    }
  ]
}